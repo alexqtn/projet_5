{
 "cells": [
  {
   "cell_type": "code",
   "execution_count": 9,
   "id": "ae42cda2",
   "metadata": {},
   "outputs": [],
   "source": [
    "import os\n",
    "import pandas as pd\n",
    "import matplotlib.pyplot as plt\n",
    "import seaborn as sns\n",
    "\n",
    "\n",
    "\n",
    "# Set pandas options for better display\n",
    "pd.set_option('display.max_columns', None)\n",
    "\n",
    "# Define base directory\n",
    "BASE_DIR = os.path.dirname(os.getcwd())  # if you run from `scripts/`\n",
    "#CSV_PATH = os.path.join(BASE_DIR, 'data', 'healthcare_dataset.csv')\n",
    "CSV_PATH = os.path.join(BASE_DIR, 'data', 'cleaned_healthcare_dataset.csv')"
   ]
  },
  {
   "cell_type": "code",
   "execution_count": 10,
   "id": "13008a11",
   "metadata": {},
   "outputs": [
    {
     "data": {
      "application/vnd.microsoft.datawrangler.viewer.v0+json": {
       "columns": [
        {
         "name": "index",
         "rawType": "int64",
         "type": "integer"
        },
        {
         "name": "name",
         "rawType": "object",
         "type": "string"
        },
        {
         "name": "age",
         "rawType": "int64",
         "type": "integer"
        },
        {
         "name": "gender",
         "rawType": "object",
         "type": "string"
        },
        {
         "name": "blood_type",
         "rawType": "object",
         "type": "string"
        },
        {
         "name": "medical_condition",
         "rawType": "object",
         "type": "string"
        },
        {
         "name": "date_of_admission",
         "rawType": "object",
         "type": "string"
        },
        {
         "name": "doctor",
         "rawType": "object",
         "type": "string"
        },
        {
         "name": "hospital",
         "rawType": "object",
         "type": "string"
        },
        {
         "name": "insurance_provider",
         "rawType": "object",
         "type": "string"
        },
        {
         "name": "billing_amount",
         "rawType": "float64",
         "type": "float"
        },
        {
         "name": "room_number",
         "rawType": "int64",
         "type": "integer"
        },
        {
         "name": "admission_type",
         "rawType": "object",
         "type": "string"
        },
        {
         "name": "discharge_date",
         "rawType": "object",
         "type": "string"
        },
        {
         "name": "medication",
         "rawType": "object",
         "type": "string"
        },
        {
         "name": "test_results",
         "rawType": "object",
         "type": "string"
        },
        {
         "name": "patient_key",
         "rawType": "object",
         "type": "string"
        }
       ],
       "ref": "3fed710c-2f6a-47db-82b0-6b7290d768d1",
       "rows": [
        [
         "0",
         "bobby_jackson",
         "30",
         "male",
         "b-",
         "cancer",
         "2024-01-31",
         "matthew_smith",
         "sons_and_miller",
         "blue_cross",
         "18856.281305978155",
         "328",
         "urgent",
         "2024-02-02",
         "paracetamol",
         "normal",
         "bobby_jackson_2024-01-31_sons_and_miller"
        ],
        [
         "1",
         "leslie_terry",
         "62",
         "male",
         "a+",
         "obesity",
         "2019-08-20",
         "samantha_davies",
         "kim_inc",
         "medicare",
         "33643.327286577885",
         "265",
         "emergency",
         "2019-08-26",
         "ibuprofen",
         "inconclusive",
         "leslie_terry_2019-08-20_kim_inc"
        ],
        [
         "2",
         "danny_smith",
         "76",
         "female",
         "a-",
         "obesity",
         "2022-09-22",
         "tiffany_mitchell",
         "cook_plc",
         "aetna",
         "27955.096078842456",
         "205",
         "emergency",
         "2022-10-07",
         "aspirin",
         "normal",
         "danny_smith_2022-09-22_cook_plc"
        ],
        [
         "3",
         "andrew_watts",
         "28",
         "female",
         "o+",
         "diabetes",
         "2020-11-18",
         "kevin_wells",
         "hernandez_rogers_and_vang,",
         "medicare",
         "37909.78240987528",
         "450",
         "elective",
         "2020-12-18",
         "ibuprofen",
         "abnormal",
         "andrew_watts_2020-11-18_hernandez_rogers_and_vang,"
        ],
        [
         "4",
         "adrienne_bell",
         "43",
         "female",
         "ab+",
         "cancer",
         "2022-09-19",
         "kathleen_hanna",
         "white-white",
         "aetna",
         "14238.317813937623",
         "458",
         "urgent",
         "2022-10-09",
         "penicillin",
         "abnormal",
         "adrienne_bell_2022-09-19_white-white"
        ]
       ],
       "shape": {
        "columns": 16,
        "rows": 5
       }
      },
      "text/html": [
       "<div>\n",
       "<style scoped>\n",
       "    .dataframe tbody tr th:only-of-type {\n",
       "        vertical-align: middle;\n",
       "    }\n",
       "\n",
       "    .dataframe tbody tr th {\n",
       "        vertical-align: top;\n",
       "    }\n",
       "\n",
       "    .dataframe thead th {\n",
       "        text-align: right;\n",
       "    }\n",
       "</style>\n",
       "<table border=\"1\" class=\"dataframe\">\n",
       "  <thead>\n",
       "    <tr style=\"text-align: right;\">\n",
       "      <th></th>\n",
       "      <th>name</th>\n",
       "      <th>age</th>\n",
       "      <th>gender</th>\n",
       "      <th>blood_type</th>\n",
       "      <th>medical_condition</th>\n",
       "      <th>date_of_admission</th>\n",
       "      <th>doctor</th>\n",
       "      <th>hospital</th>\n",
       "      <th>insurance_provider</th>\n",
       "      <th>billing_amount</th>\n",
       "      <th>room_number</th>\n",
       "      <th>admission_type</th>\n",
       "      <th>discharge_date</th>\n",
       "      <th>medication</th>\n",
       "      <th>test_results</th>\n",
       "      <th>patient_key</th>\n",
       "    </tr>\n",
       "  </thead>\n",
       "  <tbody>\n",
       "    <tr>\n",
       "      <th>0</th>\n",
       "      <td>bobby_jackson</td>\n",
       "      <td>30</td>\n",
       "      <td>male</td>\n",
       "      <td>b-</td>\n",
       "      <td>cancer</td>\n",
       "      <td>2024-01-31</td>\n",
       "      <td>matthew_smith</td>\n",
       "      <td>sons_and_miller</td>\n",
       "      <td>blue_cross</td>\n",
       "      <td>18856.281306</td>\n",
       "      <td>328</td>\n",
       "      <td>urgent</td>\n",
       "      <td>2024-02-02</td>\n",
       "      <td>paracetamol</td>\n",
       "      <td>normal</td>\n",
       "      <td>bobby_jackson_2024-01-31_sons_and_miller</td>\n",
       "    </tr>\n",
       "    <tr>\n",
       "      <th>1</th>\n",
       "      <td>leslie_terry</td>\n",
       "      <td>62</td>\n",
       "      <td>male</td>\n",
       "      <td>a+</td>\n",
       "      <td>obesity</td>\n",
       "      <td>2019-08-20</td>\n",
       "      <td>samantha_davies</td>\n",
       "      <td>kim_inc</td>\n",
       "      <td>medicare</td>\n",
       "      <td>33643.327287</td>\n",
       "      <td>265</td>\n",
       "      <td>emergency</td>\n",
       "      <td>2019-08-26</td>\n",
       "      <td>ibuprofen</td>\n",
       "      <td>inconclusive</td>\n",
       "      <td>leslie_terry_2019-08-20_kim_inc</td>\n",
       "    </tr>\n",
       "    <tr>\n",
       "      <th>2</th>\n",
       "      <td>danny_smith</td>\n",
       "      <td>76</td>\n",
       "      <td>female</td>\n",
       "      <td>a-</td>\n",
       "      <td>obesity</td>\n",
       "      <td>2022-09-22</td>\n",
       "      <td>tiffany_mitchell</td>\n",
       "      <td>cook_plc</td>\n",
       "      <td>aetna</td>\n",
       "      <td>27955.096079</td>\n",
       "      <td>205</td>\n",
       "      <td>emergency</td>\n",
       "      <td>2022-10-07</td>\n",
       "      <td>aspirin</td>\n",
       "      <td>normal</td>\n",
       "      <td>danny_smith_2022-09-22_cook_plc</td>\n",
       "    </tr>\n",
       "    <tr>\n",
       "      <th>3</th>\n",
       "      <td>andrew_watts</td>\n",
       "      <td>28</td>\n",
       "      <td>female</td>\n",
       "      <td>o+</td>\n",
       "      <td>diabetes</td>\n",
       "      <td>2020-11-18</td>\n",
       "      <td>kevin_wells</td>\n",
       "      <td>hernandez_rogers_and_vang,</td>\n",
       "      <td>medicare</td>\n",
       "      <td>37909.782410</td>\n",
       "      <td>450</td>\n",
       "      <td>elective</td>\n",
       "      <td>2020-12-18</td>\n",
       "      <td>ibuprofen</td>\n",
       "      <td>abnormal</td>\n",
       "      <td>andrew_watts_2020-11-18_hernandez_rogers_and_v...</td>\n",
       "    </tr>\n",
       "    <tr>\n",
       "      <th>4</th>\n",
       "      <td>adrienne_bell</td>\n",
       "      <td>43</td>\n",
       "      <td>female</td>\n",
       "      <td>ab+</td>\n",
       "      <td>cancer</td>\n",
       "      <td>2022-09-19</td>\n",
       "      <td>kathleen_hanna</td>\n",
       "      <td>white-white</td>\n",
       "      <td>aetna</td>\n",
       "      <td>14238.317814</td>\n",
       "      <td>458</td>\n",
       "      <td>urgent</td>\n",
       "      <td>2022-10-09</td>\n",
       "      <td>penicillin</td>\n",
       "      <td>abnormal</td>\n",
       "      <td>adrienne_bell_2022-09-19_white-white</td>\n",
       "    </tr>\n",
       "  </tbody>\n",
       "</table>\n",
       "</div>"
      ],
      "text/plain": [
       "            name  age  gender blood_type medical_condition date_of_admission  \\\n",
       "0  bobby_jackson   30    male         b-            cancer        2024-01-31   \n",
       "1   leslie_terry   62    male         a+           obesity        2019-08-20   \n",
       "2    danny_smith   76  female         a-           obesity        2022-09-22   \n",
       "3   andrew_watts   28  female         o+          diabetes        2020-11-18   \n",
       "4  adrienne_bell   43  female        ab+            cancer        2022-09-19   \n",
       "\n",
       "             doctor                    hospital insurance_provider  \\\n",
       "0     matthew_smith             sons_and_miller         blue_cross   \n",
       "1   samantha_davies                     kim_inc           medicare   \n",
       "2  tiffany_mitchell                    cook_plc              aetna   \n",
       "3       kevin_wells  hernandez_rogers_and_vang,           medicare   \n",
       "4    kathleen_hanna                 white-white              aetna   \n",
       "\n",
       "   billing_amount  room_number admission_type discharge_date   medication  \\\n",
       "0    18856.281306          328         urgent     2024-02-02  paracetamol   \n",
       "1    33643.327287          265      emergency     2019-08-26    ibuprofen   \n",
       "2    27955.096079          205      emergency     2022-10-07      aspirin   \n",
       "3    37909.782410          450       elective     2020-12-18    ibuprofen   \n",
       "4    14238.317814          458         urgent     2022-10-09   penicillin   \n",
       "\n",
       "   test_results                                        patient_key  \n",
       "0        normal           bobby_jackson_2024-01-31_sons_and_miller  \n",
       "1  inconclusive                    leslie_terry_2019-08-20_kim_inc  \n",
       "2        normal                    danny_smith_2022-09-22_cook_plc  \n",
       "3      abnormal  andrew_watts_2020-11-18_hernandez_rogers_and_v...  \n",
       "4      abnormal               adrienne_bell_2022-09-19_white-white  "
      ]
     },
     "execution_count": 10,
     "metadata": {},
     "output_type": "execute_result"
    }
   ],
   "source": [
    "# Load dataset\n",
    "df = pd.read_csv(CSV_PATH)\n",
    "df.head()"
   ]
  },
  {
   "cell_type": "code",
   "execution_count": 11,
   "id": "426a6d37",
   "metadata": {},
   "outputs": [
    {
     "name": "stdout",
     "output_type": "stream",
     "text": [
      "<class 'pandas.core.frame.DataFrame'>\n",
      "RangeIndex: 54966 entries, 0 to 54965\n",
      "Data columns (total 16 columns):\n",
      " #   Column              Non-Null Count  Dtype  \n",
      "---  ------              --------------  -----  \n",
      " 0   name                54966 non-null  object \n",
      " 1   age                 54966 non-null  int64  \n",
      " 2   gender              54966 non-null  object \n",
      " 3   blood_type          54966 non-null  object \n",
      " 4   medical_condition   54966 non-null  object \n",
      " 5   date_of_admission   54966 non-null  object \n",
      " 6   doctor              54966 non-null  object \n",
      " 7   hospital            54966 non-null  object \n",
      " 8   insurance_provider  54966 non-null  object \n",
      " 9   billing_amount      54966 non-null  float64\n",
      " 10  room_number         54966 non-null  int64  \n",
      " 11  admission_type      54966 non-null  object \n",
      " 12  discharge_date      54966 non-null  object \n",
      " 13  medication          54966 non-null  object \n",
      " 14  test_results        54966 non-null  object \n",
      " 15  patient_key         54966 non-null  object \n",
      "dtypes: float64(1), int64(2), object(13)\n",
      "memory usage: 6.7+ MB\n"
     ]
    },
    {
     "data": {
      "application/vnd.microsoft.datawrangler.viewer.v0+json": {
       "columns": [
        {
         "name": "index",
         "rawType": "object",
         "type": "string"
        },
        {
         "name": "name",
         "rawType": "object",
         "type": "unknown"
        },
        {
         "name": "age",
         "rawType": "float64",
         "type": "float"
        },
        {
         "name": "gender",
         "rawType": "object",
         "type": "unknown"
        },
        {
         "name": "blood_type",
         "rawType": "object",
         "type": "unknown"
        },
        {
         "name": "medical_condition",
         "rawType": "object",
         "type": "unknown"
        },
        {
         "name": "date_of_admission",
         "rawType": "object",
         "type": "unknown"
        },
        {
         "name": "doctor",
         "rawType": "object",
         "type": "unknown"
        },
        {
         "name": "hospital",
         "rawType": "object",
         "type": "unknown"
        },
        {
         "name": "insurance_provider",
         "rawType": "object",
         "type": "unknown"
        },
        {
         "name": "billing_amount",
         "rawType": "float64",
         "type": "float"
        },
        {
         "name": "room_number",
         "rawType": "float64",
         "type": "float"
        },
        {
         "name": "admission_type",
         "rawType": "object",
         "type": "unknown"
        },
        {
         "name": "discharge_date",
         "rawType": "object",
         "type": "unknown"
        },
        {
         "name": "medication",
         "rawType": "object",
         "type": "unknown"
        },
        {
         "name": "test_results",
         "rawType": "object",
         "type": "unknown"
        },
        {
         "name": "patient_key",
         "rawType": "object",
         "type": "unknown"
        }
       ],
       "ref": "baad829a-566d-4582-92a5-41cbb37b95dc",
       "rows": [
        [
         "count",
         "54966",
         "54966.0",
         "54966",
         "54966",
         "54966",
         "54966",
         "54966",
         "54966",
         "54966",
         "54966.0",
         "54966.0",
         "54966",
         "54966",
         "54966",
         "54966",
         "54966"
        ],
        [
         "unique",
         "40235",
         null,
         "2",
         "8",
         "6",
         "1827",
         "40341",
         "39876",
         "5",
         null,
         null,
         "3",
         "1856",
         "5",
         "3",
         "50000"
        ],
        [
         "top",
         "michael_williams",
         null,
         "male",
         "a-",
         "arthritis",
         "2024-03-16",
         "michael_smith",
         "llc_smith",
         "cigna",
         null,
         null,
         "elective",
         "2020-03-15",
         "lipitor",
         "abnormal",
         "katherine_webster_2022-01-26_carter_inc"
        ],
        [
         "freq",
         "24",
         null,
         "27496",
         "6898",
         "9218",
         "50",
         "27",
         "44",
         "11139",
         null,
         null,
         "18473",
         "53",
         "11038",
         "18437",
         "2"
        ],
        [
         "mean",
         null,
         "51.53518538733035",
         null,
         null,
         null,
         null,
         null,
         null,
         null,
         "25544.306284383958",
         "301.1244041771277",
         null,
         null,
         null,
         null,
         null
        ],
        [
         "std",
         null,
         "19.605660972575755",
         null,
         null,
         null,
         null,
         null,
         null,
         null,
         "14208.409710716338",
         "115.22314306428149",
         null,
         null,
         null,
         null,
         null
        ],
        [
         "min",
         null,
         "13.0",
         null,
         null,
         null,
         null,
         null,
         null,
         null,
         "-2008.4921398591305",
         "101.0",
         null,
         null,
         null,
         null,
         null
        ],
        [
         "25%",
         null,
         "35.0",
         null,
         null,
         null,
         null,
         null,
         null,
         null,
         "13243.71864076912",
         "202.0",
         null,
         null,
         null,
         null,
         null
        ],
        [
         "50%",
         null,
         "52.0",
         null,
         null,
         null,
         null,
         null,
         null,
         null,
         "25542.749144555833",
         "302.0",
         null,
         null,
         null,
         null,
         null
        ],
        [
         "75%",
         null,
         "68.0",
         null,
         null,
         null,
         null,
         null,
         null,
         null,
         "37819.85815919015",
         "401.0",
         null,
         null,
         null,
         null,
         null
        ],
        [
         "max",
         null,
         "89.0",
         null,
         null,
         null,
         null,
         null,
         null,
         null,
         "52764.276736469175",
         "500.0",
         null,
         null,
         null,
         null,
         null
        ]
       ],
       "shape": {
        "columns": 16,
        "rows": 11
       }
      },
      "text/html": [
       "<div>\n",
       "<style scoped>\n",
       "    .dataframe tbody tr th:only-of-type {\n",
       "        vertical-align: middle;\n",
       "    }\n",
       "\n",
       "    .dataframe tbody tr th {\n",
       "        vertical-align: top;\n",
       "    }\n",
       "\n",
       "    .dataframe thead th {\n",
       "        text-align: right;\n",
       "    }\n",
       "</style>\n",
       "<table border=\"1\" class=\"dataframe\">\n",
       "  <thead>\n",
       "    <tr style=\"text-align: right;\">\n",
       "      <th></th>\n",
       "      <th>name</th>\n",
       "      <th>age</th>\n",
       "      <th>gender</th>\n",
       "      <th>blood_type</th>\n",
       "      <th>medical_condition</th>\n",
       "      <th>date_of_admission</th>\n",
       "      <th>doctor</th>\n",
       "      <th>hospital</th>\n",
       "      <th>insurance_provider</th>\n",
       "      <th>billing_amount</th>\n",
       "      <th>room_number</th>\n",
       "      <th>admission_type</th>\n",
       "      <th>discharge_date</th>\n",
       "      <th>medication</th>\n",
       "      <th>test_results</th>\n",
       "      <th>patient_key</th>\n",
       "    </tr>\n",
       "  </thead>\n",
       "  <tbody>\n",
       "    <tr>\n",
       "      <th>count</th>\n",
       "      <td>54966</td>\n",
       "      <td>54966.000000</td>\n",
       "      <td>54966</td>\n",
       "      <td>54966</td>\n",
       "      <td>54966</td>\n",
       "      <td>54966</td>\n",
       "      <td>54966</td>\n",
       "      <td>54966</td>\n",
       "      <td>54966</td>\n",
       "      <td>54966.000000</td>\n",
       "      <td>54966.000000</td>\n",
       "      <td>54966</td>\n",
       "      <td>54966</td>\n",
       "      <td>54966</td>\n",
       "      <td>54966</td>\n",
       "      <td>54966</td>\n",
       "    </tr>\n",
       "    <tr>\n",
       "      <th>unique</th>\n",
       "      <td>40235</td>\n",
       "      <td>NaN</td>\n",
       "      <td>2</td>\n",
       "      <td>8</td>\n",
       "      <td>6</td>\n",
       "      <td>1827</td>\n",
       "      <td>40341</td>\n",
       "      <td>39876</td>\n",
       "      <td>5</td>\n",
       "      <td>NaN</td>\n",
       "      <td>NaN</td>\n",
       "      <td>3</td>\n",
       "      <td>1856</td>\n",
       "      <td>5</td>\n",
       "      <td>3</td>\n",
       "      <td>50000</td>\n",
       "    </tr>\n",
       "    <tr>\n",
       "      <th>top</th>\n",
       "      <td>michael_williams</td>\n",
       "      <td>NaN</td>\n",
       "      <td>male</td>\n",
       "      <td>a-</td>\n",
       "      <td>arthritis</td>\n",
       "      <td>2024-03-16</td>\n",
       "      <td>michael_smith</td>\n",
       "      <td>llc_smith</td>\n",
       "      <td>cigna</td>\n",
       "      <td>NaN</td>\n",
       "      <td>NaN</td>\n",
       "      <td>elective</td>\n",
       "      <td>2020-03-15</td>\n",
       "      <td>lipitor</td>\n",
       "      <td>abnormal</td>\n",
       "      <td>katherine_webster_2022-01-26_carter_inc</td>\n",
       "    </tr>\n",
       "    <tr>\n",
       "      <th>freq</th>\n",
       "      <td>24</td>\n",
       "      <td>NaN</td>\n",
       "      <td>27496</td>\n",
       "      <td>6898</td>\n",
       "      <td>9218</td>\n",
       "      <td>50</td>\n",
       "      <td>27</td>\n",
       "      <td>44</td>\n",
       "      <td>11139</td>\n",
       "      <td>NaN</td>\n",
       "      <td>NaN</td>\n",
       "      <td>18473</td>\n",
       "      <td>53</td>\n",
       "      <td>11038</td>\n",
       "      <td>18437</td>\n",
       "      <td>2</td>\n",
       "    </tr>\n",
       "    <tr>\n",
       "      <th>mean</th>\n",
       "      <td>NaN</td>\n",
       "      <td>51.535185</td>\n",
       "      <td>NaN</td>\n",
       "      <td>NaN</td>\n",
       "      <td>NaN</td>\n",
       "      <td>NaN</td>\n",
       "      <td>NaN</td>\n",
       "      <td>NaN</td>\n",
       "      <td>NaN</td>\n",
       "      <td>25544.306284</td>\n",
       "      <td>301.124404</td>\n",
       "      <td>NaN</td>\n",
       "      <td>NaN</td>\n",
       "      <td>NaN</td>\n",
       "      <td>NaN</td>\n",
       "      <td>NaN</td>\n",
       "    </tr>\n",
       "    <tr>\n",
       "      <th>std</th>\n",
       "      <td>NaN</td>\n",
       "      <td>19.605661</td>\n",
       "      <td>NaN</td>\n",
       "      <td>NaN</td>\n",
       "      <td>NaN</td>\n",
       "      <td>NaN</td>\n",
       "      <td>NaN</td>\n",
       "      <td>NaN</td>\n",
       "      <td>NaN</td>\n",
       "      <td>14208.409711</td>\n",
       "      <td>115.223143</td>\n",
       "      <td>NaN</td>\n",
       "      <td>NaN</td>\n",
       "      <td>NaN</td>\n",
       "      <td>NaN</td>\n",
       "      <td>NaN</td>\n",
       "    </tr>\n",
       "    <tr>\n",
       "      <th>min</th>\n",
       "      <td>NaN</td>\n",
       "      <td>13.000000</td>\n",
       "      <td>NaN</td>\n",
       "      <td>NaN</td>\n",
       "      <td>NaN</td>\n",
       "      <td>NaN</td>\n",
       "      <td>NaN</td>\n",
       "      <td>NaN</td>\n",
       "      <td>NaN</td>\n",
       "      <td>-2008.492140</td>\n",
       "      <td>101.000000</td>\n",
       "      <td>NaN</td>\n",
       "      <td>NaN</td>\n",
       "      <td>NaN</td>\n",
       "      <td>NaN</td>\n",
       "      <td>NaN</td>\n",
       "    </tr>\n",
       "    <tr>\n",
       "      <th>25%</th>\n",
       "      <td>NaN</td>\n",
       "      <td>35.000000</td>\n",
       "      <td>NaN</td>\n",
       "      <td>NaN</td>\n",
       "      <td>NaN</td>\n",
       "      <td>NaN</td>\n",
       "      <td>NaN</td>\n",
       "      <td>NaN</td>\n",
       "      <td>NaN</td>\n",
       "      <td>13243.718641</td>\n",
       "      <td>202.000000</td>\n",
       "      <td>NaN</td>\n",
       "      <td>NaN</td>\n",
       "      <td>NaN</td>\n",
       "      <td>NaN</td>\n",
       "      <td>NaN</td>\n",
       "    </tr>\n",
       "    <tr>\n",
       "      <th>50%</th>\n",
       "      <td>NaN</td>\n",
       "      <td>52.000000</td>\n",
       "      <td>NaN</td>\n",
       "      <td>NaN</td>\n",
       "      <td>NaN</td>\n",
       "      <td>NaN</td>\n",
       "      <td>NaN</td>\n",
       "      <td>NaN</td>\n",
       "      <td>NaN</td>\n",
       "      <td>25542.749145</td>\n",
       "      <td>302.000000</td>\n",
       "      <td>NaN</td>\n",
       "      <td>NaN</td>\n",
       "      <td>NaN</td>\n",
       "      <td>NaN</td>\n",
       "      <td>NaN</td>\n",
       "    </tr>\n",
       "    <tr>\n",
       "      <th>75%</th>\n",
       "      <td>NaN</td>\n",
       "      <td>68.000000</td>\n",
       "      <td>NaN</td>\n",
       "      <td>NaN</td>\n",
       "      <td>NaN</td>\n",
       "      <td>NaN</td>\n",
       "      <td>NaN</td>\n",
       "      <td>NaN</td>\n",
       "      <td>NaN</td>\n",
       "      <td>37819.858159</td>\n",
       "      <td>401.000000</td>\n",
       "      <td>NaN</td>\n",
       "      <td>NaN</td>\n",
       "      <td>NaN</td>\n",
       "      <td>NaN</td>\n",
       "      <td>NaN</td>\n",
       "    </tr>\n",
       "    <tr>\n",
       "      <th>max</th>\n",
       "      <td>NaN</td>\n",
       "      <td>89.000000</td>\n",
       "      <td>NaN</td>\n",
       "      <td>NaN</td>\n",
       "      <td>NaN</td>\n",
       "      <td>NaN</td>\n",
       "      <td>NaN</td>\n",
       "      <td>NaN</td>\n",
       "      <td>NaN</td>\n",
       "      <td>52764.276736</td>\n",
       "      <td>500.000000</td>\n",
       "      <td>NaN</td>\n",
       "      <td>NaN</td>\n",
       "      <td>NaN</td>\n",
       "      <td>NaN</td>\n",
       "      <td>NaN</td>\n",
       "    </tr>\n",
       "  </tbody>\n",
       "</table>\n",
       "</div>"
      ],
      "text/plain": [
       "                    name           age gender blood_type medical_condition  \\\n",
       "count              54966  54966.000000  54966      54966             54966   \n",
       "unique             40235           NaN      2          8                 6   \n",
       "top     michael_williams           NaN   male         a-         arthritis   \n",
       "freq                  24           NaN  27496       6898              9218   \n",
       "mean                 NaN     51.535185    NaN        NaN               NaN   \n",
       "std                  NaN     19.605661    NaN        NaN               NaN   \n",
       "min                  NaN     13.000000    NaN        NaN               NaN   \n",
       "25%                  NaN     35.000000    NaN        NaN               NaN   \n",
       "50%                  NaN     52.000000    NaN        NaN               NaN   \n",
       "75%                  NaN     68.000000    NaN        NaN               NaN   \n",
       "max                  NaN     89.000000    NaN        NaN               NaN   \n",
       "\n",
       "       date_of_admission         doctor   hospital insurance_provider  \\\n",
       "count              54966          54966      54966              54966   \n",
       "unique              1827          40341      39876                  5   \n",
       "top           2024-03-16  michael_smith  llc_smith              cigna   \n",
       "freq                  50             27         44              11139   \n",
       "mean                 NaN            NaN        NaN                NaN   \n",
       "std                  NaN            NaN        NaN                NaN   \n",
       "min                  NaN            NaN        NaN                NaN   \n",
       "25%                  NaN            NaN        NaN                NaN   \n",
       "50%                  NaN            NaN        NaN                NaN   \n",
       "75%                  NaN            NaN        NaN                NaN   \n",
       "max                  NaN            NaN        NaN                NaN   \n",
       "\n",
       "        billing_amount   room_number admission_type discharge_date medication  \\\n",
       "count     54966.000000  54966.000000          54966          54966      54966   \n",
       "unique             NaN           NaN              3           1856          5   \n",
       "top                NaN           NaN       elective     2020-03-15    lipitor   \n",
       "freq               NaN           NaN          18473             53      11038   \n",
       "mean      25544.306284    301.124404            NaN            NaN        NaN   \n",
       "std       14208.409711    115.223143            NaN            NaN        NaN   \n",
       "min       -2008.492140    101.000000            NaN            NaN        NaN   \n",
       "25%       13243.718641    202.000000            NaN            NaN        NaN   \n",
       "50%       25542.749145    302.000000            NaN            NaN        NaN   \n",
       "75%       37819.858159    401.000000            NaN            NaN        NaN   \n",
       "max       52764.276736    500.000000            NaN            NaN        NaN   \n",
       "\n",
       "       test_results                              patient_key  \n",
       "count         54966                                    54966  \n",
       "unique            3                                    50000  \n",
       "top        abnormal  katherine_webster_2022-01-26_carter_inc  \n",
       "freq          18437                                        2  \n",
       "mean            NaN                                      NaN  \n",
       "std             NaN                                      NaN  \n",
       "min             NaN                                      NaN  \n",
       "25%             NaN                                      NaN  \n",
       "50%             NaN                                      NaN  \n",
       "75%             NaN                                      NaN  \n",
       "max             NaN                                      NaN  "
      ]
     },
     "execution_count": 11,
     "metadata": {},
     "output_type": "execute_result"
    }
   ],
   "source": [
    "# Display basic information about the DataFrame\n",
    "df.shape  # number of rows, columns\n",
    "df.info()  # data types, nulls\n",
    "df.describe(include='all')  # stats"
   ]
  },
  {
   "cell_type": "code",
   "execution_count": 12,
   "id": "fad0321f",
   "metadata": {},
   "outputs": [
    {
     "data": {
      "text/plain": [
       "['name',\n",
       " 'age',\n",
       " 'gender',\n",
       " 'blood_type',\n",
       " 'medical_condition',\n",
       " 'date_of_admission',\n",
       " 'doctor',\n",
       " 'hospital',\n",
       " 'insurance_provider',\n",
       " 'billing_amount',\n",
       " 'room_number',\n",
       " 'admission_type',\n",
       " 'discharge_date',\n",
       " 'medication',\n",
       " 'test_results',\n",
       " 'patient_key']"
      ]
     },
     "execution_count": 12,
     "metadata": {},
     "output_type": "execute_result"
    }
   ],
   "source": [
    "#4. Cleaning column names\n",
    "df.columns = df.columns.str.strip().str.lower().str.replace(' ', '_').str.replace(r'[^a-z0-9_]', '', regex=True)\n",
    "df.columns.tolist()"
   ]
  },
  {
   "cell_type": "code",
   "execution_count": 13,
   "id": "6de3bd98",
   "metadata": {},
   "outputs": [
    {
     "data": {
      "image/png": "[encoded data removed]",
      "text/plain": [
       "<Figure size 640x480 with 1 Axes>"
      ]
     },
     "metadata": {},
     "output_type": "display_data"
    }
   ],
   "source": [
    "#5. Valeur manquantes\n",
    "df.isnull().sum()\n",
    "sns.heatmap(df.isnull(), cbar=False)\n",
    "plt.title(\"Missing Values Heatmap\")\n",
    "plt.show()"
   ]
  },
  {
   "cell_type": "code",
   "execution_count": 14,
   "id": "e0901f68",
   "metadata": {},
   "outputs": [
    {
     "name": "stdout",
     "output_type": "stream",
     "text": [
      "Duplicated rows: 0\n"
     ]
    },
    {
     "data": {
      "application/vnd.microsoft.datawrangler.viewer.v0+json": {
       "columns": [
        {
         "name": "index",
         "rawType": "int64",
         "type": "integer"
        },
        {
         "name": "name",
         "rawType": "object",
         "type": "string"
        },
        {
         "name": "age",
         "rawType": "int64",
         "type": "integer"
        },
        {
         "name": "gender",
         "rawType": "object",
         "type": "string"
        },
        {
         "name": "blood_type",
         "rawType": "object",
         "type": "string"
        },
        {
         "name": "medical_condition",
         "rawType": "object",
         "type": "string"
        },
        {
         "name": "date_of_admission",
         "rawType": "object",
         "type": "string"
        },
        {
         "name": "doctor",
         "rawType": "object",
         "type": "string"
        },
        {
         "name": "hospital",
         "rawType": "object",
         "type": "string"
        },
        {
         "name": "insurance_provider",
         "rawType": "object",
         "type": "string"
        },
        {
         "name": "billing_amount",
         "rawType": "float64",
         "type": "float"
        },
        {
         "name": "room_number",
         "rawType": "int64",
         "type": "integer"
        },
        {
         "name": "admission_type",
         "rawType": "object",
         "type": "string"
        },
        {
         "name": "discharge_date",
         "rawType": "object",
         "type": "string"
        },
        {
         "name": "medication",
         "rawType": "object",
         "type": "string"
        },
        {
         "name": "test_results",
         "rawType": "object",
         "type": "string"
        },
        {
         "name": "patient_key",
         "rawType": "object",
         "type": "string"
        }
       ],
       "ref": "14e35b62-56f5-4f7d-b8ba-3daa3b911bc3",
       "rows": [],
       "shape": {
        "columns": 16,
        "rows": 0
       }
      },
      "text/html": [
       "<div>\n",
       "<style scoped>\n",
       "    .dataframe tbody tr th:only-of-type {\n",
       "        vertical-align: middle;\n",
       "    }\n",
       "\n",
       "    .dataframe tbody tr th {\n",
       "        vertical-align: top;\n",
       "    }\n",
       "\n",
       "    .dataframe thead th {\n",
       "        text-align: right;\n",
       "    }\n",
       "</style>\n",
       "<table border=\"1\" class=\"dataframe\">\n",
       "  <thead>\n",
       "    <tr style=\"text-align: right;\">\n",
       "      <th></th>\n",
       "      <th>name</th>\n",
       "      <th>age</th>\n",
       "      <th>gender</th>\n",
       "      <th>blood_type</th>\n",
       "      <th>medical_condition</th>\n",
       "      <th>date_of_admission</th>\n",
       "      <th>doctor</th>\n",
       "      <th>hospital</th>\n",
       "      <th>insurance_provider</th>\n",
       "      <th>billing_amount</th>\n",
       "      <th>room_number</th>\n",
       "      <th>admission_type</th>\n",
       "      <th>discharge_date</th>\n",
       "      <th>medication</th>\n",
       "      <th>test_results</th>\n",
       "      <th>patient_key</th>\n",
       "    </tr>\n",
       "  </thead>\n",
       "  <tbody>\n",
       "  </tbody>\n",
       "</table>\n",
       "</div>"
      ],
      "text/plain": [
       "Empty DataFrame\n",
       "Columns: [name, age, gender, blood_type, medical_condition, date_of_admission, doctor, hospital, insurance_provider, billing_amount, room_number, admission_type, discharge_date, medication, test_results, patient_key]\n",
       "Index: []"
      ]
     },
     "execution_count": 14,
     "metadata": {},
     "output_type": "execute_result"
    }
   ],
   "source": [
    "#6. Duplicated rows\n",
    "print(\"Duplicated rows:\", df.duplicated().sum())\n",
    "df[df.duplicated()]"
   ]
  },
  {
   "cell_type": "code",
   "execution_count": 7,
   "id": "3bb7e17f",
   "metadata": {
    "vscode": {
     "languageId": "ruby"
    }
   },
   "outputs": [
    {
     "data": {
      "application/vnd.microsoft.datawrangler.viewer.v0+json": {
       "columns": [
        {
         "name": "index",
         "rawType": "int64",
         "type": "integer"
        },
        {
         "name": "date_of_admission",
         "rawType": "datetime64[ns]",
         "type": "datetime"
        },
        {
         "name": "discharge_date",
         "rawType": "datetime64[ns]",
         "type": "datetime"
        }
       ],
       "ref": "4e70cf48-7f36-4957-801d-46f34a56b8f5",
       "rows": [
        [
         "0",
         "2024-01-31 00:00:00",
         "2024-02-02 00:00:00"
        ],
        [
         "1",
         "2019-08-20 00:00:00",
         "2019-08-26 00:00:00"
        ],
        [
         "2",
         "2022-09-22 00:00:00",
         "2022-10-07 00:00:00"
        ],
        [
         "3",
         "2020-11-18 00:00:00",
         "2020-12-18 00:00:00"
        ],
        [
         "4",
         "2022-09-19 00:00:00",
         "2022-10-09 00:00:00"
        ]
       ],
       "shape": {
        "columns": 2,
        "rows": 5
       }
      },
      "text/html": [
       "<div>\n",
       "<style scoped>\n",
       "    .dataframe tbody tr th:only-of-type {\n",
       "        vertical-align: middle;\n",
       "    }\n",
       "\n",
       "    .dataframe tbody tr th {\n",
       "        vertical-align: top;\n",
       "    }\n",
       "\n",
       "    .dataframe thead th {\n",
       "        text-align: right;\n",
       "    }\n",
       "</style>\n",
       "<table border=\"1\" class=\"dataframe\">\n",
       "  <thead>\n",
       "    <tr style=\"text-align: right;\">\n",
       "      <th></th>\n",
       "      <th>date_of_admission</th>\n",
       "      <th>discharge_date</th>\n",
       "    </tr>\n",
       "  </thead>\n",
       "  <tbody>\n",
       "    <tr>\n",
       "      <th>0</th>\n",
       "      <td>2024-01-31</td>\n",
       "      <td>2024-02-02</td>\n",
       "    </tr>\n",
       "    <tr>\n",
       "      <th>1</th>\n",
       "      <td>2019-08-20</td>\n",
       "      <td>2019-08-26</td>\n",
       "    </tr>\n",
       "    <tr>\n",
       "      <th>2</th>\n",
       "      <td>2022-09-22</td>\n",
       "      <td>2022-10-07</td>\n",
       "    </tr>\n",
       "    <tr>\n",
       "      <th>3</th>\n",
       "      <td>2020-11-18</td>\n",
       "      <td>2020-12-18</td>\n",
       "    </tr>\n",
       "    <tr>\n",
       "      <th>4</th>\n",
       "      <td>2022-09-19</td>\n",
       "      <td>2022-10-09</td>\n",
       "    </tr>\n",
       "  </tbody>\n",
       "</table>\n",
       "</div>"
      ],
      "text/plain": [
       "  date_of_admission discharge_date\n",
       "0        2024-01-31     2024-02-02\n",
       "1        2019-08-20     2019-08-26\n",
       "2        2022-09-22     2022-10-07\n",
       "3        2020-11-18     2020-12-18\n",
       "4        2022-09-19     2022-10-09"
      ]
     },
     "execution_count": 7,
     "metadata": {},
     "output_type": "execute_result"
    }
   ],
   "source": [
    "#7. Conversion of date columns to datetime format\n",
    "for col in ['date_of_admission', 'discharge_date']:\n",
    "    if col in df.columns:\n",
    "        df[col] = pd.to_datetime(df[col], errors='coerce')\n",
    "\n",
    "df[['date_of_admission', 'discharge_date']].head()\n"
   ]
  },
  {
   "cell_type": "code",
   "execution_count": 8,
   "id": "038bc6c4",
   "metadata": {},
   "outputs": [
    {
     "data": {
      "image/png": "[encoded data removed]",
      "text/plain": [
       "<Figure size 640x480 with 1 Axes>"
      ]
     },
     "metadata": {},
     "output_type": "display_data"
    },
    {
     "data": {
      "image/png": "[encoded data removed]",
      "text/plain": [
       "<Figure size 640x480 with 1 Axes>"
      ]
     },
     "metadata": {},
     "output_type": "display_data"
    }
   ],
   "source": [
    "#8. Quick Visualisation\n",
    "sns.histplot(df['age'], kde=True)\n",
    "plt.title(\"Distribution of Patient Ages\")\n",
    "plt.show()\n",
    "\n",
    "df['gender'].value_counts().plot(kind='bar')\n",
    "plt.title(\"Gender Distribution\")\n",
    "plt.show()"
   ]
  },
  {
   "cell_type": "code",
   "execution_count": null,
   "id": "592da9fa",
   "metadata": {},
   "outputs": [],
   "source": []
  },
  {
   "cell_type": "code",
   "execution_count": null,
   "id": "c1256f7e",
   "metadata": {},
   "outputs": [],
   "source": []
  },
  {
   "cell_type": "code",
   "execution_count": null,
   "id": "020e3ec7",
   "metadata": {},
   "outputs": [],
   "source": []
  }
 ],
 "metadata": {
  "kernelspec": {
   "display_name": ".venv",
   "language": "python",
   "name": "python3"
  },
  "language_info": {
   "codemirror_mode": {
    "name": "ipython",
    "version": 3
   },
   "file_extension": ".py",
   "mimetype": "text/x-python",
   "name": "python",
   "nbconvert_exporter": "python",
   "pygments_lexer": "ipython3",
   "version": "3.13.5"
  }
 },
 "nbformat": 4,
 "nbformat_minor": 5
}
